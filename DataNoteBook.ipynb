{
    "cells": [
        {
            "cell_type": "markdown",
            "metadata": {},
            "source": "# Introduction to Watson"
        },
        {
            "cell_type": "code",
            "execution_count": 1,
            "metadata": {},
            "outputs": [
                {
                    "data": {
                        "text/html": "<div>\n<style scoped>\n    .dataframe tbody tr th:only-of-type {\n        vertical-align: middle;\n    }\n\n    .dataframe tbody tr th {\n        vertical-align: top;\n    }\n\n    .dataframe thead th {\n        text-align: right;\n    }\n</style>\n<table border=\"1\" class=\"dataframe\">\n  <thead>\n    <tr style=\"text-align: right;\">\n      <th></th>\n      <th>Unnamed: 0</th>\n      <th>Start Time</th>\n      <th>End Time</th>\n      <th>Trip Duration</th>\n      <th>Start Station</th>\n      <th>End Station</th>\n      <th>User Type</th>\n      <th>Gender</th>\n      <th>Birth Year</th>\n    </tr>\n  </thead>\n  <tbody>\n    <tr>\n      <th>0</th>\n      <td>5688089</td>\n      <td>2017-06-11 14:55:05</td>\n      <td>2017-06-11 15:08:21</td>\n      <td>795</td>\n      <td>Suffolk St &amp; Stanton St</td>\n      <td>W Broadway &amp; Spring St</td>\n      <td>Subscriber</td>\n      <td>Male</td>\n      <td>1998.0</td>\n    </tr>\n    <tr>\n      <th>1</th>\n      <td>4096714</td>\n      <td>2017-05-11 15:30:11</td>\n      <td>2017-05-11 15:41:43</td>\n      <td>692</td>\n      <td>Lexington Ave &amp; E 63 St</td>\n      <td>1 Ave &amp; E 78 St</td>\n      <td>Subscriber</td>\n      <td>Male</td>\n      <td>1981.0</td>\n    </tr>\n    <tr>\n      <th>2</th>\n      <td>2173887</td>\n      <td>2017-03-29 13:26:26</td>\n      <td>2017-03-29 13:48:31</td>\n      <td>1325</td>\n      <td>1 Pl &amp; Clinton St</td>\n      <td>Henry St &amp; Degraw St</td>\n      <td>Subscriber</td>\n      <td>Male</td>\n      <td>1987.0</td>\n    </tr>\n    <tr>\n      <th>3</th>\n      <td>3945638</td>\n      <td>2017-05-08 19:47:18</td>\n      <td>2017-05-08 19:59:01</td>\n      <td>703</td>\n      <td>Barrow St &amp; Hudson St</td>\n      <td>W 20 St &amp; 8 Ave</td>\n      <td>Subscriber</td>\n      <td>Female</td>\n      <td>1986.0</td>\n    </tr>\n    <tr>\n      <th>4</th>\n      <td>6208972</td>\n      <td>2017-06-21 07:49:16</td>\n      <td>2017-06-21 07:54:46</td>\n      <td>329</td>\n      <td>1 Ave &amp; E 44 St</td>\n      <td>E 53 St &amp; 3 Ave</td>\n      <td>Subscriber</td>\n      <td>Male</td>\n      <td>1992.0</td>\n    </tr>\n  </tbody>\n</table>\n</div>",
                        "text/plain": "   Unnamed: 0           Start Time             End Time  Trip Duration  \\\n0     5688089  2017-06-11 14:55:05  2017-06-11 15:08:21            795   \n1     4096714  2017-05-11 15:30:11  2017-05-11 15:41:43            692   \n2     2173887  2017-03-29 13:26:26  2017-03-29 13:48:31           1325   \n3     3945638  2017-05-08 19:47:18  2017-05-08 19:59:01            703   \n4     6208972  2017-06-21 07:49:16  2017-06-21 07:54:46            329   \n\n             Start Station             End Station   User Type  Gender  \\\n0  Suffolk St & Stanton St  W Broadway & Spring St  Subscriber    Male   \n1  Lexington Ave & E 63 St         1 Ave & E 78 St  Subscriber    Male   \n2        1 Pl & Clinton St    Henry St & Degraw St  Subscriber    Male   \n3    Barrow St & Hudson St         W 20 St & 8 Ave  Subscriber  Female   \n4          1 Ave & E 44 St         E 53 St & 3 Ave  Subscriber    Male   \n\n   Birth Year  \n0      1998.0  \n1      1981.0  \n2      1987.0  \n3      1986.0  \n4      1992.0  "
                    },
                    "execution_count": 1,
                    "metadata": {},
                    "output_type": "execute_result"
                }
            ],
            "source": "# The code was removed by Watson Studio for sharing."
        },
        {
            "cell_type": "code",
            "execution_count": null,
            "metadata": {},
            "outputs": [],
            "source": ""
        }
    ],
    "metadata": {
        "kernelspec": {
            "display_name": "Python 3.10",
            "language": "python",
            "name": "python3"
        },
        "language_info": {
            "codemirror_mode": {
                "name": "ipython",
                "version": 3
            },
            "file_extension": ".py",
            "mimetype": "text/x-python",
            "name": "python",
            "nbconvert_exporter": "python",
            "pygments_lexer": "ipython3",
            "version": "3.10.6"
        }
    },
    "nbformat": 4,
    "nbformat_minor": 1
}